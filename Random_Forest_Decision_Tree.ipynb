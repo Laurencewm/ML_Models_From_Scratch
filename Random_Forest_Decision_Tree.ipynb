{
 "cells": [
  {
   "cell_type": "markdown",
   "metadata": {},
   "source": [
    "### Reasoning: \n",
    "To improve my understanding of decision trees and random forests, I coded both from as close to scratch as possible (using numpy for some simple but tedious operations). The particular implementation is the CART (classification and regression tree). \n",
    "\n",
    "### Algorithm Overview\n",
    "A decision tree is a fantastic algorithm, partly due to the fact that is it so easy to interpret. You can look \"under the hood\" and see why the algorithm is predicting certain pieces of data. The drawback of it is that decision trees are prone to overfitting. \n",
    "\n",
    "Random forests are used to overcome this overfitting. Instead of just training a single decision tree, many decision trees are train. The catch being that each decision tree is only trained on a selection of the features and the data undergoes bootstrap aggregation (effectively, the data is subsampled with replacement). \n",
    "\n",
    "When it comes to predictions, each tree within the random forest makes its own prediction and then the most common (mode) prediction amongst all the trees is chosen as the prediction for the random forest. This method of each tree \"voting\" balances out any overfitting done by individual trees.\n",
    "\n",
    "\n",
    "### General Code Layout: \n",
    "* Imports \n",
    "* Auxiliary functions \n",
    "* Decision Tree\n",
    "* Application of decision tree to generated data\n",
    "* Random Forest \n",
    "* Application of random forest to generated data and comparison to a single decision tree. \n",
    "\n",
    "### Notes: \n",
    "The code is prepared in such a way that it will accept either a numpy array or a list of lists (useful for dealing with categorical data). \n",
    "\n",
    "The base decision tree code relies on various classes of Nodes - corresponding to either a branch in the tree of the leaf at the end. \n",
    "\n",
    "The random forest makes use of the decision tree code, creating multiple trees as well as augmenting the data through feature selection and bagging the data. "
   ]
  },
  {
   "cell_type": "markdown",
   "metadata": {},
   "source": [
    "## Imports"
   ]
  },
  {
   "cell_type": "code",
   "execution_count": 1,
   "metadata": {
    "collapsed": true
   },
   "outputs": [],
   "source": [
    "import numpy as np\n",
    "from collections import Counter"
   ]
  },
  {
   "cell_type": "markdown",
   "metadata": {},
   "source": [
    "## Auxiliary Functions"
   ]
  },
  {
   "cell_type": "code",
   "execution_count": 2,
   "metadata": {
    "collapsed": true
   },
   "outputs": [],
   "source": [
    "def find_probability(targets):\n",
    "    targets = np.array(targets).reshape(-1)\n",
    "    counts = Counter(targets).most_common()\n",
    "    total = len(targets)\n",
    "    results = []\n",
    "    for key, val in counts:\n",
    "        results.append([key, val/total])\n",
    "    return results\n",
    "\n",
    "def is_a_number(value):\n",
    "    if isinstance(value, int) or isinstance(value, float):\n",
    "        return True \n",
    "    else: \n",
    "        return False\n",
    "\n",
    "def find_unique_values(column):\n",
    "    unique_vals = []\n",
    "    for x in column:\n",
    "        if x not in unique_vals: \n",
    "            unique_vals.append(x)\n",
    "    return unique_vals\n",
    "\n",
    "def gini_impurity(x): \n",
    "    x = np.array(x).reshape(-1)\n",
    "    counter = Counter(x)\n",
    "    total = len(x)\n",
    "    GI = 1 \n",
    "    for value in counter.values():\n",
    "        prob = value/total \n",
    "        GI -= prob**2\n",
    "    return GI\n",
    "\n",
    "def information_gain(original_data, true_data, false_data):\n",
    "    p_true = len(true_data)/len(original_data)\n",
    "    p_false = 1 - p_true\n",
    "    \n",
    "    return gini_impurity(original_data) - p_true * gini_impurity(true_data) - p_false * gini_impurity(false_data)  "
   ]
  },
  {
   "cell_type": "code",
   "execution_count": 3,
   "metadata": {
    "collapsed": true
   },
   "outputs": [],
   "source": [
    "class Question:\n",
    "    def __init__(self, column, value):\n",
    "        self.column = column\n",
    "        self.value = value\n",
    "        \n",
    "    def apply(self, row):\n",
    "        data_point = row[self.column] # finds value of interest\n",
    "        # checks to see if numerical or not\n",
    "        if is_a_number(data_point): \n",
    "            # checks whether is greater or equal to\n",
    "            if data_point >= self.value:\n",
    "                return True\n",
    "            else: \n",
    "                return False\n",
    "        # If categorical\n",
    "        else: \n",
    "            if data_point == self.value: \n",
    "                return True \n",
    "            else:\n",
    "                return False"
   ]
  },
  {
   "cell_type": "code",
   "execution_count": 4,
   "metadata": {
    "collapsed": true
   },
   "outputs": [],
   "source": [
    "def find_best_split(data, target):\n",
    "    num_features = len(data[0])\n",
    "    current_impurity = gini_impurity(target)\n",
    "    \n",
    "    best_question = None\n",
    "    best_info_gain = 0\n",
    "\n",
    "    # Going through each column\n",
    "    for feat in range(num_features):\n",
    "\n",
    "        unique_vals = find_unique_values([row[feat] for row in data])\n",
    "        \n",
    "        # Testing each unique vals potential to provide info gain\n",
    "        for val in unique_vals:\n",
    "            true_list, false_list = [],[]\n",
    "            trial_question = Question(feat, val)\n",
    "            \n",
    "            # Iterating through each row and checking against the current question\n",
    "            for i, row in enumerate(data):\n",
    "                if trial_question.apply(row):\n",
    "                    true_list.append(target[i])\n",
    "                else: \n",
    "                    false_list.append(target[i])\n",
    "            \n",
    "            info_gain = information_gain(target, true_list, false_list)\n",
    "            \n",
    "            if info_gain > best_info_gain: \n",
    "                best_question = trial_question\n",
    "                best_info_gain = info_gain\n",
    "            \n",
    "\n",
    "    return best_question, best_info_gain"
   ]
  },
  {
   "cell_type": "code",
   "execution_count": 5,
   "metadata": {
    "collapsed": true
   },
   "outputs": [],
   "source": [
    "def no_info_gain(X, y): \n",
    "    question, info_gain = find_best_split(X, y) \n",
    "    if info_gain > 0: \n",
    "        return False \n",
    "    else: \n",
    "        return True"
   ]
  },
  {
   "cell_type": "code",
   "execution_count": 6,
   "metadata": {
    "collapsed": true
   },
   "outputs": [],
   "source": [
    "class Leaf:\n",
    "    def __init__(self, X, y):\n",
    "        #self.prob = find_probability(y)\n",
    "        self.y = y\n",
    "        \n",
    "    def predict(self, X):\n",
    "        return self.y"
   ]
  },
  {
   "cell_type": "code",
   "execution_count": 7,
   "metadata": {},
   "outputs": [],
   "source": [
    "class Node:\n",
    "    def __init__(self, X, y, question, depth = 1, min_leaf = 5, max_depth = 5):\n",
    "        self.question = question\n",
    "        self.depth = depth\n",
    "        self.X = X\n",
    "        self.y = y\n",
    "        \n",
    "        true_X, false_X, true_y, false_y = [], [], [], []\n",
    "            \n",
    "        # split the data into two branches\n",
    "        for idx, row in enumerate(X):\n",
    "            if self.question.apply(row):\n",
    "                true_X.append(row)\n",
    "                true_y.append(y[idx])\n",
    "            else:\n",
    "                false_X.append(row)\n",
    "                false_y.append(y[idx])\n",
    "        \n",
    "        \n",
    "        # Assign to either a node to branch or to a leaf\n",
    "        # True Branch:\n",
    "        true_question, true_info_gain = find_best_split(true_X, true_y)\n",
    "      \n",
    "        if len(true_X) <= min_leaf or len(true_X) == 1 or depth + 1 >= max_depth or true_info_gain == 0:\n",
    "            self.true_branch = Leaf(true_X, true_y)\n",
    "        else: \n",
    "            self.true_branch = Node(true_X, true_y, true_question, self.depth + 1, min_leaf, max_depth)\n",
    "\n",
    "        # False Branch:    \n",
    "        false_question, false_info_gain = find_best_split(false_X, false_y)\n",
    "\n",
    "        if len(false_X) <= min_leaf or len(false_X) == 1 or depth + 1 >= max_depth or false_info_gain == 0:\n",
    "            self.false_branch = Leaf(false_X, false_y)\n",
    "        else: \n",
    "            self.false_branch = Node(false_X, false_y, false_question, depth + 1, min_leaf, max_depth)\n",
    "            \n",
    "    def predict(self, row):        \n",
    "        if self.question.apply(row):\n",
    "            return self.true_branch.predict(row)\n",
    "        else: \n",
    "            return self.false_branch.predict(row)"
   ]
  },
  {
   "cell_type": "code",
   "execution_count": 8,
   "metadata": {
    "collapsed": true
   },
   "outputs": [],
   "source": [
    "def mode(x):\n",
    "    return find_probability(x)[0][0]"
   ]
  },
  {
   "cell_type": "markdown",
   "metadata": {},
   "source": [
    "## Decision Tree\n"
   ]
  },
  {
   "cell_type": "code",
   "execution_count": 9,
   "metadata": {},
   "outputs": [],
   "source": [
    "class Decision_Tree: \n",
    "    def __init__(self, min_leaf_size = 3, max_depth = 10):\n",
    "        self.min_leaf_size = min_leaf_size\n",
    "        self.max_depth = max_depth \n",
    "        self.starting_branch = None\n",
    "        \n",
    "    def fit(self, X, y):\n",
    "        initial_question, initial_info_gain = find_best_split(X, y)\n",
    "        if len(X) <= self.min_leaf_size or self.max_depth == 1 or initial_info_gain == 0: \n",
    "            self.starting_branch = Leaf(X, y)\n",
    "        \n",
    "        self.starting_branch = Node(X, y, initial_question, depth = 1, min_leaf = self.min_leaf_size, max_depth = self.max_depth)\n",
    "        \n",
    "    def predict(self, X, style = 'regression'):\n",
    "        predictions = []\n",
    "        for i, row in enumerate(X): \n",
    "            pred = self.starting_branch.predict(row)\n",
    "            if style == 'regression':\n",
    "                pred = find_probability(pred)\n",
    "            else: \n",
    "                pred = mode(pred)\n",
    "            predictions.append(pred)\n",
    "        return predictions"
   ]
  },
  {
   "cell_type": "markdown",
   "metadata": {},
   "source": [
    "### Applying it to generated data: "
   ]
  },
  {
   "cell_type": "code",
   "execution_count": 10,
   "metadata": {},
   "outputs": [],
   "source": [
    "from sklearn.model_selection import train_test_split\n",
    "from sklearn import datasets"
   ]
  },
  {
   "cell_type": "code",
   "execution_count": 11,
   "metadata": {
    "collapsed": true
   },
   "outputs": [],
   "source": [
    "X, Y = datasets.make_classification(n_samples = 800, n_features = 5, random_state = 42)\n",
    "X_train, X_test, y_train, y_test = train_test_split(X, Y, test_size = 0.33, random_state = 42)"
   ]
  },
  {
   "cell_type": "code",
   "execution_count": 12,
   "metadata": {},
   "outputs": [],
   "source": [
    "dt = Decision_Tree(1, 20)\n",
    "dt.fit(X_train, y_train)"
   ]
  },
  {
   "cell_type": "code",
   "execution_count": 13,
   "metadata": {},
   "outputs": [],
   "source": [
    "dt_train_pred = dt.predict(X_train, style = 'classification')\n",
    "dt_test_pred = dt.predict(X_test, style = 'classification')"
   ]
  },
  {
   "cell_type": "code",
   "execution_count": 14,
   "metadata": {},
   "outputs": [
    {
     "name": "stdout",
     "output_type": "stream",
     "text": [
      "Training Error: 1.0\n",
      "Testing Error: 0.9242424242424242\n"
     ]
    }
   ],
   "source": [
    "print(\"Training Error: {}\".format(np.average(dt_train_pred == y_train)))\n",
    "print(\"Testing Error: {}\".format(np.average(dt_test_pred == y_test)))\n"
   ]
  },
  {
   "cell_type": "markdown",
   "metadata": {},
   "source": [
    "# Random Forest: \n"
   ]
  },
  {
   "cell_type": "code",
   "execution_count": 15,
   "metadata": {
    "collapsed": true
   },
   "outputs": [],
   "source": [
    "def data_subsample(X, y):\n",
    "    # Bootstrapping the data\n",
    "    num_data = len(X)\n",
    "    data_idx = np.arange(num_data)\n",
    "    subset_idx = np.random.choice(data_idx, num_data, replace = True)\n",
    "    subset_X = [X[idx] for idx in subset_idx]\n",
    "    subset_y = [y[idx] for idx in subset_idx]\n",
    "    \n",
    "    return subset_X, subset_y\n",
    "\n",
    "def feature_selection(X):\n",
    "    # Random selection of features\n",
    "    num_features = len(X[0])\n",
    "    feature_idx = np.arange(num_features)\n",
    "    subset_idx = np.random.choice(feature_idx, int(np.sqrt(num_features)), replace = False)\n",
    "    X = [[row[i] for i in subset_idx] for row in X]\n",
    "    return X, subset_idx"
   ]
  },
  {
   "cell_type": "code",
   "execution_count": 16,
   "metadata": {
    "collapsed": true
   },
   "outputs": [],
   "source": [
    "class Random_Forest:\n",
    "    def __init__(self, num_trees, min_leaf, max_depth): \n",
    "        self.num_trees = num_trees\n",
    "        self.min_leaf = min_leaf\n",
    "        self.max_depth = max_depth\n",
    "        self.forest = [Decision_Tree(min_leaf, max_depth) for _ in range(num_trees)]\n",
    "        \n",
    "    def fit(self, X, y, verbose = 0):\n",
    "        self.feature_selection = []\n",
    "        for count, tree in enumerate(self.forest):\n",
    "            if verbose != 0 and count%verbose == 0: \n",
    "                print(\"Training tree: {}/{}\".format(count, self.num_trees))\n",
    "            # augment data \n",
    "            X_sub, y_sub = data_subsample(X, y)\n",
    "            X_sub, feature_idx = feature_selection(X_sub)\n",
    "            self.feature_selection.append(feature_idx) # retained for predictions\n",
    "            \n",
    "            # train the tree\n",
    "            tree.fit(X_sub, y_sub)\n",
    "    \n",
    "    def predict(self, X, full_results = False):\n",
    "        final_pred = []\n",
    "        for row in X:\n",
    "            individual_pred = []\n",
    "            for tree_idx, tree in enumerate(self.forest): \n",
    "                # appropriately augment data for each tree\n",
    "                aug_row = [row[col_idx] for col_idx in self.feature_selection[tree_idx]]\n",
    "                \n",
    "                # make prediction\n",
    "                individual_pred.append(tree.predict([aug_row], style = 'classification')) \n",
    "                # need aug_row in list so that decision_tree.predict recieves a LoL that is required.\n",
    "            \n",
    "            if full_results: \n",
    "                final_pred.append(individual_pred)\n",
    "\n",
    "            else: \n",
    "                final_pred.append(mode(individual_pred))\n",
    "                \n",
    "        return final_pred"
   ]
  },
  {
   "cell_type": "markdown",
   "metadata": {},
   "source": [
    "## Applying it to generated data"
   ]
  },
  {
   "cell_type": "code",
   "execution_count": 17,
   "metadata": {
    "collapsed": true
   },
   "outputs": [],
   "source": [
    "n_trees = 100\n",
    "rf = Random_Forest(num_trees = n_trees, min_leaf = 1, max_depth = 60)"
   ]
  },
  {
   "cell_type": "code",
   "execution_count": 18,
   "metadata": {},
   "outputs": [
    {
     "name": "stdout",
     "output_type": "stream",
     "text": [
      "Training tree: 0/100\n",
      "Training tree: 5/100\n",
      "Training tree: 10/100\n",
      "Training tree: 15/100\n",
      "Training tree: 20/100\n",
      "Training tree: 25/100\n",
      "Training tree: 30/100\n",
      "Training tree: 35/100\n",
      "Training tree: 40/100\n",
      "Training tree: 45/100\n",
      "Training tree: 50/100\n",
      "Training tree: 55/100\n",
      "Training tree: 60/100\n",
      "Training tree: 65/100\n",
      "Training tree: 70/100\n",
      "Training tree: 75/100\n",
      "Training tree: 80/100\n",
      "Training tree: 85/100\n",
      "Training tree: 90/100\n",
      "Training tree: 95/100\n"
     ]
    }
   ],
   "source": [
    "rf.fit(X_train, y_train, verbose = 5)"
   ]
  },
  {
   "cell_type": "code",
   "execution_count": 19,
   "metadata": {
    "scrolled": false
   },
   "outputs": [],
   "source": [
    "rf_train_pred = rf.predict(X_train)\n",
    "rf_test_pred = rf.predict(X_test)"
   ]
  },
  {
   "cell_type": "code",
   "execution_count": 20,
   "metadata": {},
   "outputs": [
    {
     "name": "stdout",
     "output_type": "stream",
     "text": [
      "Training Accuracy: 1.0\n",
      "Test Accuracy: 0.9393939393939394\n"
     ]
    }
   ],
   "source": [
    "print(\"Training Accuracy: {}\".format(np.average(rf_train_pred == y_train)))\n",
    "print(\"Test Accuracy: {}\".format(np.average(rf_test_pred == y_test)))"
   ]
  },
  {
   "cell_type": "markdown",
   "metadata": {},
   "source": [
    "## Comparing the Random Forest and Decision Tree"
   ]
  },
  {
   "cell_type": "code",
   "execution_count": 21,
   "metadata": {
    "collapsed": true
   },
   "outputs": [],
   "source": [
    "rf_test_pred_full = rf.predict(X_test, full_results = True)\n",
    "rf_test_pred_full = np.array(rf_test_pred_full)"
   ]
  },
  {
   "cell_type": "code",
   "execution_count": 22,
   "metadata": {},
   "outputs": [],
   "source": [
    "partial_rf_accuracy = []\n",
    "for num_trees in range(1, n_trees):\n",
    "    many_preds = rf_test_pred_full[:, :num_trees, :]\n",
    "    pred = []\n",
    "    for row in many_preds: \n",
    "        pred.append(mode(row))\n",
    "    accuracy = np.average(pred == y_test)\n",
    "    partial_rf_accuracy.append(accuracy)"
   ]
  },
  {
   "cell_type": "code",
   "execution_count": 23,
   "metadata": {
    "collapsed": true
   },
   "outputs": [],
   "source": [
    "import matplotlib.pyplot as plt"
   ]
  },
  {
   "cell_type": "code",
   "execution_count": 24,
   "metadata": {
    "collapsed": true
   },
   "outputs": [],
   "source": [
    "dt_accuracy = np.average(dt_test_pred == y_test)"
   ]
  },
  {
   "cell_type": "code",
   "execution_count": 25,
   "metadata": {},
   "outputs": [
    {
     "data": {
      "image/png": "[encoded data removed]",
      "text/plain": [
       "<matplotlib.figure.Figure at 0x215e0456dd8>"
      ]
     },
     "metadata": {},
     "output_type": "display_data"
    }
   ],
   "source": [
    "plt.plot(range(1,100), partial_rf_accuracy, c = 'g', label = \"Random Forest\")\n",
    "plt.xlabel(\"Number of trees\")\n",
    "plt.ylabel(\"Accuracy\")\n",
    "plt.axhline(dt_accuracy, c = 'b', linestyle = '--', label = \"Single Decision Tree\") # from decision tree\n",
    "plt.legend()\n",
    "plt.title(\"Accuracy vs Number of Trees in Random Forest\")\n",
    "plt.show()"
   ]
  }
 ],
 "metadata": {
  "kernelspec": {
   "display_name": "Python 3",
   "language": "python",
   "name": "python3"
  },
  "language_info": {
   "codemirror_mode": {
    "name": "ipython",
    "version": 3
   },
   "file_extension": ".py",
   "mimetype": "text/x-python",
   "name": "python",
   "nbconvert_exporter": "python",
   "pygments_lexer": "ipython3",
   "version": "3.6.3"
  }
 },
 "nbformat": 4,
 "nbformat_minor": 2
}
