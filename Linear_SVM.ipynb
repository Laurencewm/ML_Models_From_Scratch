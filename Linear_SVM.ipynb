{
 "cells": [
  {
   "cell_type": "code",
   "execution_count": 23,
   "metadata": {
    "collapsed": true
   },
   "outputs": [],
   "source": [
    "import numpy as np\n",
    "import pandas as pd\n",
    "import matplotlib.pylab as plt\n",
    "from IPython.display import display"
   ]
  },
  {
   "cell_type": "code",
   "execution_count": 2,
   "metadata": {
    "collapsed": true
   },
   "outputs": [],
   "source": [
    "from matplotlib import style\n",
    "style.use('seaborn-pastel')"
   ]
  },
  {
   "cell_type": "code",
   "execution_count": 24,
   "metadata": {},
   "outputs": [],
   "source": [
    "class Support_Vector_Machine:\n",
    "    def __init__(self, visualisation = True):\n",
    "        self.visualisation = visualisation\n",
    "        self.colours = {1:'r', -1:'b'}\n",
    "        if self.visualisation: \n",
    "            self.fig = plt.figure()\n",
    "            self.ax = self.fig.add_subplot(1, 1, 1)\n",
    "            \n",
    "    def fit(self, data):\n",
    "        # a basic convex optimisation\n",
    "        self.data = data\n",
    "        \n",
    "        # { ||W|| : [W, b]}\n",
    "        opt_dict = {}\n",
    "        \n",
    "        # for the various forms W can take\n",
    "        transforms = [[1, 1],\n",
    "                      [-1, 1],\n",
    "                      [-1, -1],\n",
    "                      [1, -1]]\n",
    "        \n",
    "        # to get maximum and min ranges: \n",
    "        # allows us to get a value for w and b and start stepping\n",
    "        all_data = []\n",
    "        for yi in self.data: # for each class (as its a dict)\n",
    "            for featureset in self.data[yi]: # individual datapoint\n",
    "                for feature in featureset: # each feature within a datapoint\n",
    "                    all_data.append(feature)\n",
    "                    \n",
    "        self.max_feature_value = max(all_data)\n",
    "        self.min_feature_value = min(all_data)\n",
    "        all_data = None\n",
    "        \n",
    "        # support vectors yi(xi.w + b) = 1\n",
    "        # Have a good optimal when you we have at least one point for each \n",
    "        # class where yi(xi.w + b) close to 1, e.g. 1.01.\n",
    "        \n",
    "        # our initial step size is 0.1 of our max feature value\n",
    "        step_sizes = [self.max_feature_value * 0.1,\n",
    "                      self.max_feature_value * 0.01, \n",
    "                      # point of expense:\n",
    "                      self.max_feature_value * 0.001]\n",
    "        \n",
    "        # extremely expensive\n",
    "        # b doesn't need to be as precise as w.\n",
    "        # so we will not use as small steps\n",
    "        b_range_multiple = 5\n",
    "        b_multiple = 5\n",
    "        latest_optimum = self.max_feature_value * 10\n",
    "    \n",
    "        for step in step_sizes: # progressively smaller steps\n",
    "            w = np.array([latest_optimum, latest_optimum]) # our latest value of W\n",
    "            \n",
    "            optimised = False # we can do this because convex\n",
    "            \n",
    "            while not optimised: \n",
    "                b_steps = np.arange(-1*self.max_feature_value * b_range_multiple,\n",
    "                                   self.max_feature_value * b_range_multiple, \n",
    "                                  step * b_multiple) \n",
    "                for b in b_steps:\n",
    "                    for transformation in transforms: \n",
    "                        w_t = w*transformation\n",
    "                        found_option = True\n",
    "                        # weakest link in the SVM fundamentally\n",
    "                        # SMO attempts to fix this a bit\n",
    "                        # Now have to run this calculation on all data which is expensive\n",
    "                        \n",
    "                        \n",
    "                        for i in self.data: # for each class (as its a dict)\n",
    "                            for xi in self.data[i]:\n",
    "                                yi = i \n",
    "                                # Constraint: \n",
    "                                # yi(xi.W + b) >= 1\n",
    "                                if not yi*(np.dot(w_t, xi) + b) >= 1:\n",
    "                                    found_option = False\n",
    "                                    #break\n",
    "                                    \n",
    "                            #if found_option == False: \n",
    "                                #break\n",
    "                            \n",
    "                        if found_option:\n",
    "                            opt_dict[np.linalg.norm(w_t)] = [w_t, b]\n",
    "                \n",
    "                # As we will be transforming w for all possibile -ve variations\n",
    "                # we do not need to go past w = 0 at this point\n",
    "                if w[0] < 0: \n",
    "                    # if step optimised\n",
    "                    optimised = True\n",
    "                    print(\"Optimised a step\")\n",
    "                \n",
    "                else:\n",
    "                    # w = [5, 5]\n",
    "                    # step = 1\n",
    "                    # w - step = [4, 4]\n",
    "                    w = w - step\n",
    "            # Assumed we're at our optimisation value\n",
    "            norms = sorted([n for n in opt_dict]) # finds smallest ||w|| produced\n",
    "            opt_choice = opt_dict[norms[0]] # retrieves the w and b values for the smallest ||W|| \n",
    "            self.w = opt_choice[0]\n",
    "            self.b = opt_choice[1]\n",
    "            latest_optimum = opt_choice[0][0] + step*2\n",
    "            \n",
    "            \n",
    "    def predict(self, features):\n",
    "        classification = np.sign(np.dot(np.array(features), self.w) + self.b)\n",
    "        \n",
    "        if classification != 0 and self.visualisation: \n",
    "            self.ax.scatter(features[0], features[1], s = 200, marker = '*', c = self.colours[classification], alpha = 0.8)\n",
    "        \n",
    "        return classification\n",
    "    \n",
    "    def visualise(self):\n",
    "        for label in data_dict:\n",
    "            for x in data_dict[label]:\n",
    "                self.ax.scatter(x[0], x[1],s=100, c = self.colours[label], alpha = 0.8)        \n",
    "         \n",
    "         # hyperplane = x.w + b\n",
    "         # We want v = x.w + b\n",
    "         # We care when V is +1 and -1 and 0\n",
    "        def hyperplane(x, w, b, v):\n",
    "            return (-w[0]*x-b+v) / w[1]\n",
    "         \n",
    "        datarange = (self.min_feature_value*0.9, self.max_feature_value*1.1)\n",
    "        hyp_x_min = datarange[0]\n",
    "        hyp_x_max = datarange[1]\n",
    "        \n",
    "        \n",
    "        # (w.x + b) = 1\n",
    "        # positive support vector\n",
    "        # finds the corresponding y values for the hyperplane for the \n",
    "        # x values corresponding to hyp_x_(min and max)\n",
    "        psv1 = hyperplane(hyp_x_min, self.w, self.b, 1)\n",
    "        psv2 = hyperplane(hyp_x_max, self.w, self.b, 1)\n",
    "        self.ax.plot([hyp_x_min, hyp_x_max], [psv1, psv2], 'r', alpha = 0.8)\n",
    "        \n",
    "        # (w.x + b) = -1\n",
    "        # negative support vector\n",
    "        nsv1 = hyperplane(hyp_x_min, self.w, self.b, -1)\n",
    "        nsv2 = hyperplane(hyp_x_max, self.w, self.b, -1)\n",
    "        self.ax.plot([hyp_x_min, hyp_x_max], [nsv1, nsv2], 'b', alpha = 0.8)\n",
    "        \n",
    "        # (w.x + b) = 0\n",
    "        # the decision boundary \n",
    "        db1 = hyperplane(hyp_x_min, self.w, self.b, 0)\n",
    "        db2 = hyperplane(hyp_x_max, self.w, self.b, 0)\n",
    "        self.ax.plot([hyp_x_min, hyp_x_max], [db1, db2], 'k--')\n",
    "        \n",
    "        display(self.fig) # Instead of plt.show(), so that fig can be shown without being cleared."
   ]
  },
  {
   "cell_type": "code",
   "execution_count": 25,
   "metadata": {
    "collapsed": true
   },
   "outputs": [],
   "source": [
    "# {label : [x, y]}\n",
    "data_dict = {-1: np.array([[1, 7],\n",
    "                           [2, 8], \n",
    "                           [3, 8]]),\n",
    "             1: np.array([[5, 1],\n",
    "                          [6, -1], \n",
    "                          [7, 3]])}"
   ]
  },
  {
   "cell_type": "code",
   "execution_count": 30,
   "metadata": {},
   "outputs": [
    {
     "name": "stdout",
     "output_type": "stream",
     "text": [
      "Optimised a step\n",
      "Optimised a step\n",
      "Optimised a step\n"
     ]
    },
    {
     "data": {
      "image/png": "[encoded data removed]",
      "text/plain": [
       "<matplotlib.figure.Figure at 0x1f98f94a390>"
      ]
     },
     "metadata": {},
     "output_type": "display_data"
    }
   ],
   "source": [
    "svm = Support_Vector_Machine()\n",
    "svm.fit(data = data_dict)\n",
    "svm.visualise()"
   ]
  },
  {
   "cell_type": "code",
   "execution_count": 31,
   "metadata": {
    "collapsed": true
   },
   "outputs": [],
   "source": [
    "test_data = [[0, 10], \n",
    "            [1, 3],\n",
    "            [3, 4],\n",
    "            [3, 5], \n",
    "            [5, 5],\n",
    "            [5, 6], \n",
    "            [6, -5],\n",
    "            [5, 8]]\n"
   ]
  },
  {
   "cell_type": "code",
   "execution_count": 32,
   "metadata": {
    "collapsed": true
   },
   "outputs": [],
   "source": [
    "for p in test_data:\n",
    "    svm.predict(p)"
   ]
  },
  {
   "cell_type": "code",
   "execution_count": 33,
   "metadata": {},
   "outputs": [
    {
     "data": {
      "image/png": "[encoded data removed]",
      "text/plain": [
       "<matplotlib.figure.Figure at 0x1f98f94a390>"
      ]
     },
     "metadata": {},
     "output_type": "display_data"
    }
   ],
   "source": [
    "svm.visualise()"
   ]
  },
  {
   "cell_type": "code",
   "execution_count": null,
   "metadata": {
    "collapsed": true
   },
   "outputs": [],
   "source": []
  }
 ],
 "metadata": {
  "kernelspec": {
   "display_name": "Python 3",
   "language": "python",
   "name": "python3"
  },
  "language_info": {
   "codemirror_mode": {
    "name": "ipython",
    "version": 3
   },
   "file_extension": ".py",
   "mimetype": "text/x-python",
   "name": "python",
   "nbconvert_exporter": "python",
   "pygments_lexer": "ipython3",
   "version": "3.6.3"
  }
 },
 "nbformat": 4,
 "nbformat_minor": 2
}
